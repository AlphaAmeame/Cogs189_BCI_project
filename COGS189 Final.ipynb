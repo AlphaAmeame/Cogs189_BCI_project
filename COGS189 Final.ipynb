{
 "cells": [
  {
   "cell_type": "code",
   "execution_count": 4,
   "id": "33db3512",
   "metadata": {},
   "outputs": [],
   "source": [
    "import numpy as np\n",
    "import tqdm\n",
    "import scipy\n",
    "import math"
   ]
  },
  {
   "cell_type": "code",
   "execution_count": 8,
   "id": "fdd40256",
   "metadata": {},
   "outputs": [],
   "source": [
    "data = np.load('pythonxx/A01T.npz')"
   ]
  },
  {
   "cell_type": "code",
   "execution_count": 9,
   "id": "4cf1ccf5",
   "metadata": {},
   "outputs": [],
   "source": [
    "signal = data['s']\n",
    "etype = data['etyp']\n",
    "epos = data['epos']\n",
    "edur = data['edur']"
   ]
  },
  {
   "cell_type": "code",
   "execution_count": 67,
   "id": "38a23cb4",
   "metadata": {},
   "outputs": [
    {
     "data": {
      "text/plain": [
       "array([ 14,  16,  28,  30,  32,  40,  42,  46,  57,  71,  85, 104, 107,\n",
       "       109, 116, 120, 129, 135, 150, 160, 166, 172, 182, 205, 214, 222,\n",
       "       224, 239, 247, 259, 271, 273, 279, 289, 301, 305, 310, 312, 324,\n",
       "       328, 330, 356, 368, 372, 376, 380, 384, 394, 408, 416, 418, 432,\n",
       "       457, 465, 469, 473, 475, 477, 479, 500, 505, 529, 552, 556, 562,\n",
       "       566, 572, 576, 585, 593, 597, 602], dtype=int64)"
      ]
     },
     "execution_count": 67,
     "metadata": {},
     "output_type": "execute_result"
    }
   ],
   "source": [
    "# 每个event单独有一个array，包括这个event在etype中出现位置的index\n",
    "index769 = np.where(etype == 769)\n",
    "index769 = index769[0]\n",
    "\n",
    "index770 = np.where(etype == 770)\n",
    "index770 = index770[0]\n",
    "\n",
    "index771 = np.where(etype == 771)\n",
    "index771 = index771[0]\n",
    "\n",
    "index772 = np.where(etype == 772)\n",
    "index772 = index772[0]\n",
    "\n",
    "index769"
   ]
  },
  {
   "cell_type": "code",
   "execution_count": 83,
   "id": "898d8a8e",
   "metadata": {},
   "outputs": [],
   "source": [
    "#769\n",
    "epos769 = []\n",
    "for i in range(len(index769)):\n",
    "    epos769.append(epos[index769[i]][0])\n",
    "    \n",
    "diff_epos769 = []\n",
    "for i in range(len(index769)-1):\n",
    "    diff_epos769.append(epos[index769[i] + 1][0] - epos[index769[i]][0])\n",
    "\n",
    "\n",
    "    \n",
    "#770\n",
    "epos770 = []\n",
    "for i in range(len(index770)):\n",
    "    epos770.append(epos[index770[i]][0])\n",
    "    \n",
    "diff_epos770 = []\n",
    "for i in range(len(index770)):\n",
    "    diff_epos770.append(epos[index770[i] + 1][0] - epos[index770[i]][0])\n",
    "    \n",
    "\n",
    "    \n",
    "#771\n",
    "epos771 = []\n",
    "for i in range(len(index771)):\n",
    "    epos771.append(epos[index771[i]][0])\n",
    "    \n",
    "diff_epos771 = []\n",
    "for i in range(len(index771)):\n",
    "    diff_epos771.append(epos[index771[i] + 1][0] - epos[index771[i]][0])\n",
    "\n",
    "\n",
    "\n",
    "#772\n",
    "epos772 = []\n",
    "for i in range(len(index772)):\n",
    "    epos772.append(epos[index772[i]][0])\n",
    "    \n",
    "diff_epos772 = []\n",
    "for i in range(len(index772)):\n",
    "    diff_epos772.append(epos[index772[i] + 1][0] - epos[index772[i]][0])"
   ]
  },
  {
   "cell_type": "code",
   "execution_count": 84,
   "id": "2e6519e4",
   "metadata": {},
   "outputs": [
    {
     "data": {
      "text/plain": [
       "(71, 72, 72, 72)"
      ]
     },
     "execution_count": 84,
     "metadata": {},
     "output_type": "execute_result"
    }
   ],
   "source": [
    "len(diff_epos769), len(diff_epos770), len(diff_epos771), len(diff_epos772)"
   ]
  },
  {
   "cell_type": "code",
   "execution_count": 105,
   "id": "3e6ae802",
   "metadata": {},
   "outputs": [],
   "source": [
    "#每一个event对应edur里的数字 都是313\n",
    "edur769 = []\n",
    "for i in range(len(index769)):\n",
    "    edur769.append(edur[index769[i]][0])\n",
    "    \n",
    "edur770 = []\n",
    "for i in range(len(index770)):\n",
    "    edur770.append(edur[index770[i]][0])\n",
    "    \n",
    "edur771 = []\n",
    "for i in range(len(index771)):\n",
    "    edur771.append(edur[index771[i]][0])\n",
    "    \n",
    "edur772 = []\n",
    "for i in range(len(index772)):\n",
    "    edur772.append(edur[index772[i]][0])"
   ]
  },
  {
   "cell_type": "code",
   "execution_count": null,
   "id": "7859370c",
   "metadata": {},
   "outputs": [],
   "source": [
    "diff = []\n",
    "for i in range(0, 200):\n",
    "    x = epos[8+2*i] - epos[7+2*i]\n",
    "    diff.append(x)\n",
    "    print(x)"
   ]
  },
  {
   "cell_type": "code",
   "execution_count": null,
   "id": "602a1912",
   "metadata": {},
   "outputs": [],
   "source": [
    "def findtype(data, classnum):\n",
    "    data1 = np.load(data)\n",
    "    signal = data1['s']\n",
    "    etype = data1['etyp']\n",
    "    epos = data1['epos']\n",
    "    edur = data1['edur']\n",
    "    x = etype[etype == classnum]\n",
    "    pa = epos[etype == classnum]\n",
    "    pd = edur[etype == classnum]\n",
    "    ps = pa + pd\n",
    "    sigarr = []\n",
    "    for i in range(len(pd)):\n",
    "        sigarr.append(signal[pa[i]:ps[i]])\n",
    "    finsigarr = np.stack(sigarr, axis= 0)\n",
    "    \n",
    "    return finsigarr"
   ]
  },
  {
   "cell_type": "code",
   "execution_count": 3,
   "id": "d9471401",
   "metadata": {},
   "outputs": [],
   "source": [
    "def bandpower(x, fs, fmin, fmax):  #改成takein array\n",
    "    f, Pxx = scipy.signal.periodogram(x, fs=fs)\n",
    "    ind_min = scipy.argmax(f > fmin) - 1\n",
    "    ind_max = scipy.argmax(f > fmax) - 1\n",
    "    return scipy.trapz(Pxx[ind_min: ind_max], f[ind_min: ind_max])"
   ]
  },
  {
   "cell_type": "code",
   "execution_count": null,
   "id": "5d6cce5e",
   "metadata": {},
   "outputs": [],
   "source": [
    "fs = 250\n",
    "f = [5:35]"
   ]
  },
  {
   "cell_type": "code",
   "execution_count": 11,
   "id": "83b0aa45",
   "metadata": {},
   "outputs": [
    {
     "data": {
      "text/plain": [
       "array([ 5,  6,  7,  8,  9, 10, 11, 12, 13, 14, 15, 16, 17, 18, 19, 20, 21,\n",
       "       22, 23, 24, 25, 26, 27, 28, 29, 30, 31, 32, 33, 34, 35])"
      ]
     },
     "execution_count": 11,
     "metadata": {},
     "output_type": "execute_result"
    }
   ],
   "source": [
    "f = np.array(range(5,36))\n",
    "f"
   ]
  },
  {
   "cell_type": "code",
   "execution_count": null,
   "id": "c1479dc0",
   "metadata": {},
   "outputs": [],
   "source": [
    "bp = bandpower(x, fs, f - 0.5, f + 0.5)"
   ]
  },
  {
   "cell_type": "code",
   "execution_count": 28,
   "id": "9d55f19c",
   "metadata": {},
   "outputs": [],
   "source": [
    "def SelectfreqBand(fs, f, signal, i, y, C, flow, fup):\n",
    "    # default signal structure should be (Trial, Channel, Duration)\n",
    "    x = signal[i, C, :]\n",
    "    fmax = argmax(sum(scoref(x, fs, f))) #axis\n",
    "    bp1 = bandpower(x, fs, fmax - 0.5, fmax + 0.5) # output 3-D matrix \n",
    "    db1 = 10 * math.log(bp1, 10)\n",
    "    \n",
    "    if np.corrcoef(db1,y) > 0:\n",
    "        scoref1 = scoref(x, fs, f)\n",
    "    else:\n",
    "        scoref1 = -scoref(x, fs, f)\n",
    "    fscoref = sum(scoref1)\n",
    "    \n",
    "    fmax1 = argmax(fscoref)\n",
    "    f0 = fmax1\n",
    "    f1 = fmax1\n",
    "    while fscore(f0-1) >= fscore(fmax1) * 0.05:\n",
    "        f0 = f0 - 1\n",
    "    while fscore(f1+1) >= fscore(fmax1) * 0.05:\n",
    "        f1 = f1 +1\n",
    "       \n",
    "    return [f0, f1]\n",
    "    "
   ]
  },
  {
   "cell_type": "code",
   "execution_count": 29,
   "id": "6faa1eff",
   "metadata": {},
   "outputs": [],
   "source": [
    "def scoref(x, fs, f):\n",
    "    bp = bandpower(x, fs, f - 0.5, f + 0.5) # output 3-D matrix \n",
    "    db = 10 * math.log(bp, 10)\n",
    "    sf = np.corrcoef(db, y)\n",
    "    return sf"
   ]
  },
  {
   "cell_type": "code",
   "execution_count": 30,
   "id": "a63fee4d",
   "metadata": {},
   "outputs": [],
   "source": [
    "def fscoref(scoref1):\n",
    "    fsf = sum(scoref1)\n",
    "    return fsf"
   ]
  },
  {
   "cell_type": "code",
   "execution_count": null,
   "id": "8ed32bb2",
   "metadata": {},
   "outputs": [],
   "source": []
  }
 ],
 "metadata": {
  "kernelspec": {
   "display_name": "Python 3 (ipykernel)",
   "language": "python",
   "name": "python3"
  },
  "language_info": {
   "codemirror_mode": {
    "name": "ipython",
    "version": 3
   },
   "file_extension": ".py",
   "mimetype": "text/x-python",
   "name": "python",
   "nbconvert_exporter": "python",
   "pygments_lexer": "ipython3",
   "version": "3.9.7"
  }
 },
 "nbformat": 4,
 "nbformat_minor": 5
}
