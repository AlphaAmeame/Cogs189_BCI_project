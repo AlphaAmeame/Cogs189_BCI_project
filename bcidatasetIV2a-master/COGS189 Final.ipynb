{
 "cells": [
  {
   "cell_type": "code",
   "execution_count": 22,
   "id": "33db3512",
   "metadata": {},
   "outputs": [],
   "source": [
    "import numpy as np\n",
    "import tqdm\n",
    "import scipy\n",
    "import math\n",
    "from scipy import signal\n",
    "import os"
   ]
  },
  {
   "cell_type": "code",
   "execution_count": 23,
   "id": "fdd40256",
   "metadata": {},
   "outputs": [],
   "source": [
    "data = np.load('A01T.npz')"
   ]
  },
  {
   "cell_type": "code",
   "execution_count": 24,
   "id": "4cf1ccf5",
   "metadata": {},
   "outputs": [],
   "source": [
    "signal = data['s']\n",
    "etype = data['etyp']\n",
    "epos = data['epos']\n",
    "edur = data['edur']"
   ]
  },
  {
   "cell_type": "code",
   "execution_count": 4,
   "id": "38a23cb4",
   "metadata": {},
   "outputs": [
    {
     "data": {
      "text/plain": [
       "array([ 14,  16,  28,  30,  32,  40,  42,  46,  57,  71,  85, 104, 107,\n",
       "       109, 116, 120, 129, 135, 150, 160, 166, 172, 182, 205, 214, 222,\n",
       "       224, 239, 247, 259, 271, 273, 279, 289, 301, 305, 310, 312, 324,\n",
       "       328, 330, 356, 368, 372, 376, 380, 384, 394, 408, 416, 418, 432,\n",
       "       457, 465, 469, 473, 475, 477, 479, 500, 505, 529, 552, 556, 562,\n",
       "       566, 572, 576, 585, 593, 597, 602], dtype=int64)"
      ]
     },
     "execution_count": 4,
     "metadata": {},
     "output_type": "execute_result"
    }
   ],
   "source": [
    "# 每个event单独有一个array，包括这个event在etype中出现位置的index\n",
    "index769 = np.where(etype == 769)\n",
    "index769 = index769[0]\n",
    "\n",
    "index770 = np.where(etype == 770)\n",
    "index770 = index770[0]\n",
    "\n",
    "index771 = np.where(etype == 771)\n",
    "index771 = index771[0]\n",
    "\n",
    "index772 = np.where(etype == 772)\n",
    "index772 = index772[0]\n",
    "\n",
    "index769"
   ]
  },
  {
   "cell_type": "code",
   "execution_count": 5,
   "id": "898d8a8e",
   "metadata": {},
   "outputs": [],
   "source": [
    "#769\n",
    "epos769 = []\n",
    "for i in range(len(index769)):\n",
    "    epos769.append(epos[index769[i]][0])\n",
    "    \n",
    "diff_epos769 = []\n",
    "for i in range(len(index769)-1):\n",
    "    diff_epos769.append(epos[index769[i] + 1][0] - epos[index769[i]][0])\n",
    "\n",
    "\n",
    "    \n",
    "#770\n",
    "epos770 = []\n",
    "for i in range(len(index770)):\n",
    "    epos770.append(epos[index770[i]][0])\n",
    "    \n",
    "diff_epos770 = []\n",
    "for i in range(len(index770)):\n",
    "    diff_epos770.append(epos[index770[i] + 1][0] - epos[index770[i]][0])\n",
    "    \n",
    "\n",
    "    \n",
    "#771\n",
    "epos771 = []\n",
    "for i in range(len(index771)):\n",
    "    epos771.append(epos[index771[i]][0])\n",
    "    \n",
    "diff_epos771 = []\n",
    "for i in range(len(index771)):\n",
    "    diff_epos771.append(epos[index771[i] + 1][0] - epos[index771[i]][0])\n",
    "\n",
    "\n",
    "\n",
    "#772\n",
    "epos772 = []\n",
    "for i in range(len(index772)):\n",
    "    epos772.append(epos[index772[i]][0])\n",
    "    \n",
    "diff_epos772 = []\n",
    "for i in range(len(index772)):\n",
    "    diff_epos772.append(epos[index772[i] + 1][0] - epos[index772[i]][0])"
   ]
  },
  {
   "cell_type": "code",
   "execution_count": 6,
   "id": "2e6519e4",
   "metadata": {},
   "outputs": [
    {
     "data": {
      "text/plain": [
       "(71, 72, 72, 72)"
      ]
     },
     "execution_count": 6,
     "metadata": {},
     "output_type": "execute_result"
    }
   ],
   "source": [
    "len(diff_epos769), len(diff_epos770), len(diff_epos771), len(diff_epos772)"
   ]
  },
  {
   "cell_type": "code",
   "execution_count": 7,
   "id": "3e6ae802",
   "metadata": {},
   "outputs": [],
   "source": [
    "#每一个event对应edur里的数字 都是313\n",
    "edur769 = []\n",
    "for i in range(len(index769)):\n",
    "    edur769.append(edur[index769[i]][0])\n",
    "    \n",
    "edur770 = []\n",
    "for i in range(len(index770)):\n",
    "    edur770.append(edur[index770[i]][0])\n",
    "    \n",
    "edur771 = []\n",
    "for i in range(len(index771)):\n",
    "    edur771.append(edur[index771[i]][0])\n",
    "    \n",
    "edur772 = []\n",
    "for i in range(len(index772)):\n",
    "    edur772.append(edur[index772[i]][0])"
   ]
  },
  {
   "cell_type": "code",
   "execution_count": 8,
   "id": "7859370c",
   "metadata": {},
   "outputs": [
    {
     "name": "stdout",
     "output_type": "stream",
     "text": [
      "[500]\n",
      "[500]\n",
      "[500]\n",
      "[500]\n",
      "[500]\n",
      "[500]\n",
      "[500]\n",
      "[500]\n",
      "[500]\n",
      "[500]\n",
      "[500]\n",
      "[500]\n",
      "[500]\n",
      "[500]\n",
      "[500]\n",
      "[500]\n",
      "[500]\n",
      "[500]\n",
      "[500]\n",
      "[500]\n",
      "[500]\n",
      "[0]\n",
      "[1412]\n",
      "[1531]\n",
      "[1453]\n",
      "[1461]\n",
      "[1604]\n",
      "[1504]\n",
      "[1475]\n",
      "[1526]\n",
      "[1571]\n",
      "[1607]\n",
      "[1592]\n",
      "[1591]\n",
      "[1543]\n",
      "[1564]\n",
      "[1520]\n",
      "[1472]\n",
      "[1463]\n",
      "[1425]\n",
      "[1581]\n",
      "[1478]\n",
      "[1490]\n",
      "[1619]\n",
      "[1406]\n",
      "[1428]\n",
      "[500]\n",
      "[500]\n",
      "[500]\n",
      "[350]\n",
      "[1503]\n",
      "[1418]\n",
      "[1452]\n",
      "[1508]\n",
      "[500]\n",
      "[500]\n",
      "[500]\n",
      "[500]\n",
      "[0]\n",
      "[1498]\n",
      "[1406]\n",
      "[1395]\n",
      "[1472]\n",
      "[1444]\n",
      "[1467]\n",
      "[1620]\n",
      "[1508]\n",
      "[1566]\n",
      "[1536]\n",
      "[1566]\n",
      "[500]\n",
      "[500]\n",
      "[500]\n",
      "[500]\n",
      "[500]\n",
      "[500]\n",
      "[500]\n",
      "[500]\n",
      "[500]\n",
      "[500]\n",
      "[500]\n",
      "[500]\n",
      "[500]\n",
      "[500]\n",
      "[500]\n",
      "[500]\n",
      "[500]\n",
      "[500]\n",
      "[500]\n",
      "[500]\n",
      "[500]\n",
      "[500]\n",
      "[500]\n",
      "[500]\n",
      "[500]\n",
      "[500]\n",
      "[500]\n",
      "[0]\n",
      "[1559]\n",
      "[1478]\n",
      "[500]\n",
      "[0]\n",
      "[1418]\n",
      "[500]\n",
      "[500]\n",
      "[500]\n",
      "[500]\n",
      "[500]\n",
      "[500]\n",
      "[0]\n",
      "[1498]\n",
      "[1406]\n",
      "[1395]\n",
      "[1472]\n",
      "[1444]\n",
      "[1467]\n",
      "[1620]\n",
      "[1508]\n",
      "[1566]\n",
      "[1536]\n",
      "[1566]\n",
      "[1570]\n",
      "[1580]\n",
      "[1412]\n",
      "[1531]\n",
      "[1453]\n",
      "[1461]\n",
      "[1604]\n",
      "[1504]\n",
      "[1475]\n",
      "[1526]\n",
      "[1571]\n",
      "[1607]\n",
      "[1592]\n",
      "[1591]\n",
      "[1543]\n",
      "[1564]\n",
      "[1520]\n",
      "[1472]\n",
      "[1463]\n",
      "[1425]\n",
      "[1581]\n",
      "[1478]\n",
      "[1490]\n",
      "[1619]\n",
      "[1406]\n",
      "[1428]\n",
      "[1614]\n",
      "[1559]\n",
      "[1478]\n",
      "[500]\n",
      "[500]\n",
      "[500]\n",
      "[500]\n",
      "[500]\n",
      "[500]\n",
      "[500]\n",
      "[500]\n",
      "[500]\n",
      "[500]\n",
      "[500]\n",
      "[500]\n",
      "[500]\n",
      "[500]\n",
      "[500]\n",
      "[500]\n",
      "[500]\n",
      "[500]\n",
      "[500]\n",
      "[500]\n",
      "[500]\n",
      "[500]\n",
      "[500]\n",
      "[500]\n",
      "[500]\n",
      "[500]\n",
      "[500]\n",
      "[500]\n",
      "[500]\n",
      "[500]\n",
      "[500]\n",
      "[500]\n",
      "[500]\n",
      "[500]\n",
      "[500]\n",
      "[500]\n",
      "[500]\n",
      "[500]\n",
      "[500]\n",
      "[500]\n",
      "[500]\n",
      "[500]\n",
      "[500]\n",
      "[500]\n",
      "[500]\n",
      "[500]\n",
      "[500]\n",
      "[0]\n",
      "[1478]\n",
      "[500]\n"
     ]
    }
   ],
   "source": [
    "diff = []\n",
    "for i in range(0, 200):\n",
    "    x = epos[8+2*i] - epos[7+2*i]\n",
    "    diff.append(x)\n",
    "    print(x)"
   ]
  },
  {
   "cell_type": "code",
   "execution_count": 25,
   "id": "602a1912",
   "metadata": {},
   "outputs": [],
   "source": [
    "def findtype(data, classnum):\n",
    "    data1 = np.load(data)\n",
    "    signal = data1['s']\n",
    "    etype = data1['etyp']\n",
    "    epos = data1['epos']\n",
    "    edur = data1['edur']\n",
    "    x = etype[etype == classnum]\n",
    "    pa = epos[etype == classnum]\n",
    "    pd = edur[etype == classnum]\n",
    "    ps = pa + pd\n",
    "    sigarr = []\n",
    "    for i in range(len(pd)):\n",
    "        sigarr.append(signal[pa[i]:ps[i]])\n",
    "    finsigarr = np.stack(sigarr, axis= 0)\n",
    "    \n",
    "    return finsigarr"
   ]
  },
  {
   "cell_type": "code",
   "execution_count": 10,
   "id": "78db9d69",
   "metadata": {},
   "outputs": [],
   "source": [
    "def bandpower(x, fs, fmin, fmax):  #改成takein array\n",
    "    f, Pxx = scipy.signal.periodogram(x, fs=fs)\n",
    "    ind_min = scipy.argmax(f > fmin) - 1\n",
    "    ind_max = scipy.argmax(f > fmax) - 1\n",
    "    return scipy.trapz(Pxx[ind_min: ind_max], f[ind_min: ind_max])"
   ]
  },
  {
   "cell_type": "code",
   "execution_count": 26,
   "id": "3d0ee40f",
   "metadata": {},
   "outputs": [],
   "source": [
    "fs = 250"
   ]
  },
  {
   "cell_type": "code",
   "execution_count": 27,
   "id": "5a3cc405",
   "metadata": {},
   "outputs": [
    {
     "data": {
      "text/plain": [
       "array([ 5,  6,  7,  8,  9, 10, 11, 12, 13, 14, 15, 16, 17, 18, 19, 20, 21,\n",
       "       22, 23, 24, 25, 26, 27, 28, 29, 30, 31, 32, 33, 34, 35])"
      ]
     },
     "execution_count": 27,
     "metadata": {},
     "output_type": "execute_result"
    }
   ],
   "source": [
    "f = np.array(range(5,36))\n",
    "f"
   ]
  },
  {
   "cell_type": "code",
   "execution_count": 46,
   "id": "9d55f19c",
   "metadata": {},
   "outputs": [],
   "source": [
    "def SelectfreqBand(fs, f, signal, i, y, C):\n",
    "    # default signal structure should be (Trial, Channel, Duration)\n",
    "    x = signal[i, C, :]\n",
    "    Fscores = np.apply_along_axis(scoref, 1, f, x, fs, y, C)\n",
    "    fmax = f[np.argmax(Fscores)] # step 3 \n",
    "    #step 4 confusion \n",
    "    bp1 = bandpower(x, fs, fmax - 0.5, fmax + 0.5) # output 3-D matrix \n",
    "    db1 = 10 * math.log(bp1, 10)\n",
    "    \n",
    "    if np.corrcoef(db1,y) > 0:\n",
    "        Multiplier = 1\n",
    "    else:\n",
    "        Multiplier = -1\n",
    "    fscoref = sum(scoref1)\n",
    "    \n",
    "    fmax1 = f[np.argmax(Fscores * Multiplier)]\n",
    "    f0 = fmax1\n",
    "    f1 = fmax1\n",
    "    while (scoref(f0-1, x, fs, y, C) * Multiplier\n",
    "           >= scoref(fmax1, x, fs, y, C) * Multiplier * 0.05):\n",
    "        f0 = f0 - 1\n",
    "    while (scoref(f1+1, x, fs, y, C) * Multiplier\n",
    "           >= scoref(fmax1, x, fs, y, C) * Multiplier * 0.05):\n",
    "        f1 = f1 +1\n",
    "       \n",
    "    return [f0, f1]\n",
    "    "
   ]
  },
  {
   "cell_type": "code",
   "execution_count": 28,
   "id": "3c3e3efd",
   "metadata": {},
   "outputs": [],
   "source": [
    "def scoref(f, x, fs, y, C):\n",
    "    bpsum = 0\n",
    "        for j in range(len(C)):\n",
    "            bp = bandpower1(x[j,:], fs, f - 0.5, f + 0.5) # output 3-D matrix \n",
    "            db = 10 * math.log(bp, 10)\n",
    "            sf = np.corrcoef(db, y)\n",
    "            bpsum = bpsum + sf\n",
    "    return sf"
   ]
  },
  {
   "cell_type": "code",
   "execution_count": 25,
   "id": "89634af9",
   "metadata": {},
   "outputs": [],
   "source": [
    "def fscoref(scoref1):\n",
    "    fsf = sum(scoref1)\n",
    "    return fsf"
   ]
  },
  {
   "cell_type": "code",
   "execution_count": 29,
   "id": "46d97e8f",
   "metadata": {},
   "outputs": [],
   "source": [
    "j = findtype('A01T.npz',769)"
   ]
  },
  {
   "cell_type": "code",
   "execution_count": 30,
   "id": "efe3aab6",
   "metadata": {},
   "outputs": [],
   "source": [
    "C = [0, 7, 11]"
   ]
  },
  {
   "cell_type": "code",
   "execution_count": 31,
   "id": "0ca43e5c",
   "metadata": {},
   "outputs": [],
   "source": [
    "def bandpower1(data, fs, freqrange):\n",
    "    \n",
    "    \"\"\"Average Power in input signal x.\n",
    "    **********\n",
    "    Parameters\n",
    "    **********\n",
    "    \n",
    "    data :Input signal(Time series).\n",
    "    fs : Sampling frequency.\n",
    "    frqrange: Frequency range for band power computation.\n",
    "    \"\"\"\n",
    "    \n",
    "    import numpy as np\n",
    "    import os\n",
    "    print(os.listdir())\n",
    "    from scipy.signal import welch\n",
    "    from scipy.integrate import simps\n",
    "    \n",
    "    \n",
    "    freqrange= np.asarray(freqrange)\n",
    "    low, high = freqrange\n",
    "\n",
    "    \n",
    "    freqs, psd = welch(data, fs)\n",
    "\n",
    "    \n",
    "    freqrange_idx= np.logical_and(freqs >= low, freqs <= high)\n",
    "\n",
    "    bp = simps(psd[freqrange_idx])\n",
    "\n",
    "    return bp"
   ]
  },
  {
   "cell_type": "code",
   "execution_count": 32,
   "id": "fb2d84fa",
   "metadata": {},
   "outputs": [],
   "source": [
    "x = j[0, C, :]"
   ]
  },
  {
   "cell_type": "code",
   "execution_count": 33,
   "id": "ccb6e1d7",
   "metadata": {},
   "outputs": [
    {
     "data": {
      "text/plain": [
       "array([ 6.29882812,  4.63867188,  5.37109375,  7.56835938,  6.68945312,\n",
       "        6.88476562,  3.36914062,  0.73242188,  5.37109375,  6.98242188,\n",
       "        6.00585938,  3.02734375,  1.41601562, -0.04882812,  4.98046875,\n",
       "        8.7890625 ,  7.66601562,  3.7109375 ,  5.71289062,  9.1796875 ,\n",
       "        9.61914062, 10.00976562, -7.8125    , -4.39453125, -0.9765625 ])"
      ]
     },
     "execution_count": 33,
     "metadata": {},
     "output_type": "execute_result"
    }
   ],
   "source": [
    "x[1,:]"
   ]
  },
  {
   "cell_type": "code",
   "execution_count": 34,
   "id": "8e3abdf7",
   "metadata": {},
   "outputs": [
    {
     "name": "stdout",
     "output_type": "stream",
     "text": [
      "['.gitignore', '.ipynb_checkpoints', 'A01E.npz', 'A01T.npz', 'A02E.npz', 'A02T.npz', 'A03E.npz', 'A03T.npz', 'A04E.npz', 'A04T.npz', 'A05E.npz', 'A05T.npz', 'A06E.npz', 'A06T.npz', 'A07E.npz', 'A07T.npz', 'A08E.npz', 'A08T.npz', 'A09E.npz', 'A09T.npz', 'COGS189 Final.ipynb', 'event_table.png', 'exampleplot.png', 'examples', 'iloveos.png', 'LICENSE', 'main.ipynb', 'mi_paradigm.png', 'plot_c3c4cz.py', 'README.md', 'Untitled.ipynb']\n"
     ]
    },
    {
     "data": {
      "text/plain": [
       "0.20407053904642414"
      ]
     },
     "execution_count": 34,
     "metadata": {},
     "output_type": "execute_result"
    }
   ],
   "source": [
    "bandpower1(x[1,:], fs, [5,35])"
   ]
  },
  {
   "cell_type": "code",
   "execution_count": 35,
   "id": "eb7ab89b",
   "metadata": {},
   "outputs": [
    {
     "name": "stdout",
     "output_type": "stream",
     "text": [
      "['.gitignore', '.ipynb_checkpoints', 'A01E.npz', 'A01T.npz', 'A02E.npz', 'A02T.npz', 'A03E.npz', 'A03T.npz', 'A04E.npz', 'A04T.npz', 'A05E.npz', 'A05T.npz', 'A06E.npz', 'A06T.npz', 'A07E.npz', 'A07T.npz', 'A08E.npz', 'A08T.npz', 'A09E.npz', 'A09T.npz', 'COGS189 Final.ipynb', 'event_table.png', 'exampleplot.png', 'examples', 'iloveos.png', 'LICENSE', 'main.ipynb', 'mi_paradigm.png', 'plot_c3c4cz.py', 'README.md', 'Untitled.ipynb']\n"
     ]
    },
    {
     "ename": "ValueError",
     "evalue": "operands could not be broadcast together with shapes (13,) (2,) ",
     "output_type": "error",
     "traceback": [
      "\u001b[1;31m---------------------------------------------------------------------------\u001b[0m",
      "\u001b[1;31mValueError\u001b[0m                                Traceback (most recent call last)",
      "\u001b[1;32m~\\AppData\\Local\\Temp/ipykernel_7716/3440286356.py\u001b[0m in \u001b[0;36m<module>\u001b[1;34m\u001b[0m\n\u001b[1;32m----> 1\u001b[1;33m \u001b[0mbandpower1\u001b[0m\u001b[1;33m(\u001b[0m\u001b[0mx\u001b[0m\u001b[1;33m[\u001b[0m\u001b[1;36m1\u001b[0m\u001b[1;33m,\u001b[0m\u001b[1;33m:\u001b[0m\u001b[1;33m]\u001b[0m\u001b[1;33m,\u001b[0m \u001b[0mfs\u001b[0m\u001b[1;33m,\u001b[0m \u001b[1;33m[\u001b[0m\u001b[1;33m[\u001b[0m\u001b[1;36m5\u001b[0m\u001b[1;33m,\u001b[0m\u001b[1;36m35\u001b[0m\u001b[1;33m]\u001b[0m\u001b[1;33m,\u001b[0m \u001b[1;33m[\u001b[0m\u001b[1;36m6\u001b[0m\u001b[1;33m,\u001b[0m\u001b[1;36m35\u001b[0m\u001b[1;33m]\u001b[0m\u001b[1;33m]\u001b[0m\u001b[1;33m)\u001b[0m\u001b[1;33m\u001b[0m\u001b[1;33m\u001b[0m\u001b[0m\n\u001b[0m",
      "\u001b[1;32m~\\AppData\\Local\\Temp/ipykernel_7716/4189030622.py\u001b[0m in \u001b[0;36mbandpower1\u001b[1;34m(data, fs, freqrange)\u001b[0m\n\u001b[0;32m     25\u001b[0m \u001b[1;33m\u001b[0m\u001b[0m\n\u001b[0;32m     26\u001b[0m \u001b[1;33m\u001b[0m\u001b[0m\n\u001b[1;32m---> 27\u001b[1;33m     \u001b[0mfreqrange_idx\u001b[0m\u001b[1;33m=\u001b[0m \u001b[0mnp\u001b[0m\u001b[1;33m.\u001b[0m\u001b[0mlogical_and\u001b[0m\u001b[1;33m(\u001b[0m\u001b[0mfreqs\u001b[0m \u001b[1;33m>=\u001b[0m \u001b[0mlow\u001b[0m\u001b[1;33m,\u001b[0m \u001b[0mfreqs\u001b[0m \u001b[1;33m<=\u001b[0m \u001b[0mhigh\u001b[0m\u001b[1;33m)\u001b[0m\u001b[1;33m\u001b[0m\u001b[1;33m\u001b[0m\u001b[0m\n\u001b[0m\u001b[0;32m     28\u001b[0m \u001b[1;33m\u001b[0m\u001b[0m\n\u001b[0;32m     29\u001b[0m     \u001b[0mbp\u001b[0m \u001b[1;33m=\u001b[0m \u001b[0msimps\u001b[0m\u001b[1;33m(\u001b[0m\u001b[0mpsd\u001b[0m\u001b[1;33m[\u001b[0m\u001b[0mfreqrange_idx\u001b[0m\u001b[1;33m]\u001b[0m\u001b[1;33m)\u001b[0m\u001b[1;33m\u001b[0m\u001b[1;33m\u001b[0m\u001b[0m\n",
      "\u001b[1;31mValueError\u001b[0m: operands could not be broadcast together with shapes (13,) (2,) "
     ]
    }
   ],
   "source": [
    "bandpower1(x[1,:], fs, [[5,35], [6,35]])"
   ]
  },
  {
   "cell_type": "code",
   "execution_count": 45,
   "id": "08ac6a51",
   "metadata": {},
   "outputs": [
    {
     "data": {
      "text/plain": [
       "6"
      ]
     },
     "execution_count": 45,
     "metadata": {},
     "output_type": "execute_result"
    }
   ],
   "source": [
    "f[1]"
   ]
  },
  {
   "cell_type": "code",
   "execution_count": null,
   "id": "996d21d8",
   "metadata": {},
   "outputs": [],
   "source": []
  }
 ],
 "metadata": {
  "kernelspec": {
   "display_name": "Python 3 (ipykernel)",
   "language": "python",
   "name": "python3"
  },
  "language_info": {
   "codemirror_mode": {
    "name": "ipython",
    "version": 3
   },
   "file_extension": ".py",
   "mimetype": "text/x-python",
   "name": "python",
   "nbconvert_exporter": "python",
   "pygments_lexer": "ipython3",
   "version": "3.9.7"
  }
 },
 "nbformat": 4,
 "nbformat_minor": 5
}
