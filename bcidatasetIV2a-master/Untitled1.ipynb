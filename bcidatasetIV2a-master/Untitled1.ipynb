{
 "cells": [
  {
   "cell_type": "code",
   "execution_count": 16,
   "id": "281e0978",
   "metadata": {},
   "outputs": [],
   "source": [
    "import numpy as np\n",
    "import pandas as pd\n",
    "from sklearn.discriminant_analysis import LinearDiscriminantAnalysis as LDA\n",
    "from sklearn.linear_model import LinearRegression as LR"
   ]
  },
  {
   "cell_type": "code",
   "execution_count": 17,
   "id": "861d9daa",
   "metadata": {},
   "outputs": [],
   "source": [
    "def CSPFilter(data, w, label, j):\n",
    "    w = np.array(w)\n",
    "    data = np.array(data)\n",
    "    filter = LDA()\n",
    "    processed_data = [1]\n",
    "    for i in range(j):\n",
    "        temp_data = np.log(w[:,j].T * data * data.T * w[:,j])\n",
    "        processed_data.append(temp_data)\n",
    "    processed_data = np.array(processed_data)\n",
    "    filter.fit(processed_data,label)\n",
    "    return filter"
   ]
  },
  {
   "cell_type": "code",
   "execution_count": 26,
   "id": "2528aa86",
   "metadata": {},
   "outputs": [],
   "source": [
    "def Process_w(w, j):\n",
    "    processed_w = np.delete(w, list(range(j/2, 25-j/2)) , axis = 1)\n",
    "                            \n",
    "    return processed_w"
   ]
  }
 ],
 "metadata": {
  "kernelspec": {
   "display_name": "Python 3 (ipykernel)",
   "language": "python",
   "name": "python3"
  },
  "language_info": {
   "codemirror_mode": {
    "name": "ipython",
    "version": 3
   },
   "file_extension": ".py",
   "mimetype": "text/x-python",
   "name": "python",
   "nbconvert_exporter": "python",
   "pygments_lexer": "ipython3",
   "version": "3.9.7"
  }
 },
 "nbformat": 4,
 "nbformat_minor": 5
}
