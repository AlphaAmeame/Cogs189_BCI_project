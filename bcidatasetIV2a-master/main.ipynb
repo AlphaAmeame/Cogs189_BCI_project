{
 "cells": [
  {
   "cell_type": "markdown",
   "id": "a5cab166",
   "metadata": {},
   "source": [
    "# COGS 189 Team Argus Motor Imaginery Classifier"
   ]
  },
  {
   "cell_type": "markdown",
   "id": "8334873d",
   "metadata": {},
   "source": [
    "## Section 1: Setup"
   ]
  },
  {
   "cell_type": "code",
   "execution_count": 1,
   "id": "3b2dc133",
   "metadata": {},
   "outputs": [],
   "source": [
    "# import libraries and packages\n",
    "import numpy as np\n",
    "import tqdm\n",
    "\n",
    "# define constants and dicts\n"
   ]
  },
  {
   "cell_type": "markdown",
   "id": "78c90972",
   "metadata": {},
   "source": [
    "## Section 2: Data Import"
   ]
  },
  {
   "cell_type": "code",
   "execution_count": null,
   "id": "7cc6a555",
   "metadata": {},
   "outputs": [],
   "source": []
  }
 ],
 "metadata": {
  "kernelspec": {
   "display_name": "Python 3 (ipykernel)",
   "language": "python",
   "name": "python3"
  },
  "language_info": {
   "codemirror_mode": {
    "name": "ipython",
    "version": 3
   },
   "file_extension": ".py",
   "mimetype": "text/x-python",
   "name": "python",
   "nbconvert_exporter": "python",
   "pygments_lexer": "ipython3",
   "version": "3.9.7"
  }
 },
 "nbformat": 4,
 "nbformat_minor": 5
}
