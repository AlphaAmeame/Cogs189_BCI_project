{
 "cells": [
  {
   "cell_type": "markdown",
   "metadata": {},
   "source": [
    "# COGS 189 Team Argus Motor Imaginery Classifier"
   ]
  },
  {
   "cell_type": "markdown",
   "metadata": {},
   "source": [
    "## Section 1: Setup"
   ]
  },
  {
   "cell_type": "code",
   "execution_count": 1,
   "metadata": {},
   "outputs": [],
   "source": [
    "# import libraries and packages\n",
    "import numpy as np\n",
    "import tqdm                                    # for dealing with data\n",
    "from scipy.signal import butter, sosfiltfilt, sosfreqz  # for filtering\n",
    "import matplotlib.pyplot as plt                         # for plotting\n",
    "# define constants and dicts\n"
   ]
  },
  {
   "cell_type": "code",
   "execution_count": 4,
   "metadata": {},
   "outputs": [],
   "source": [
    "def butter_bandpass(lowcut, highcut, fs, order = 2):\n",
    "        nyq = 0.5 * fs\n",
    "        low = lowcut / nyq\n",
    "        high = highcut / nyq\n",
    "        sos = butter(order, [low, high], analog = False, btype = 'band', output = 'sos')\n",
    "        return sos\n",
    "\n",
    "def butter_bandpass_filter(data, lowcut, highcut, fs, order = 2):\n",
    "        sos = butter_bandpass(lowcut, highcut, fs, order = order)\n",
    "        y = sosfiltfilt(sos, data)\n",
    "        return y"
   ]
  },
  {
   "cell_type": "markdown",
   "metadata": {},
   "source": [
    "## Section 2: Data Import"
   ]
  },
  {
   "cell_type": "markdown",
   "metadata": {},
   "source": [
    "define function for finding class type"
   ]
  },
  {
   "cell_type": "code",
   "execution_count": 2,
   "metadata": {},
   "outputs": [],
   "source": [
    "def findtype(data, classnum):\n",
    "    data1 = np.load(data)\n",
    "    signal = data1['s']\n",
    "    etype = data1['etyp']\n",
    "    epos = data1['epos']\n",
    "    edur = data1['edur']\n",
    "    x = etype[etype == classnum]\n",
    "    pa = epos[etype == classnum]\n",
    "    pd = edur[etype == classnum]\n",
    "    ps = pa + pd\n",
    "    sigarr = []\n",
    "    for i in range(len(pd)):\n",
    "        sigarr.append(signal[pa[i]:ps[i]])\n",
    "    finsigarr = np.stack(sigarr, axis= 0)\n",
    "    \n",
    "    return finsigarr"
   ]
  },
  {
   "cell_type": "code",
   "execution_count": 3,
   "metadata": {},
   "outputs": [
    {
     "data": {
      "text/plain": [
       "(72, 313, 25)"
      ]
     },
     "execution_count": 3,
     "metadata": {},
     "output_type": "execute_result"
    }
   ],
   "source": [
    "findtype('A01T.npz', 769).shape"
   ]
  },
  {
   "cell_type": "code",
   "execution_count": null,
   "metadata": {},
   "outputs": [],
   "source": []
  },
  {
   "cell_type": "code",
   "execution_count": 5,
   "metadata": {},
   "outputs": [],
   "source": [
    "# Create filtering variables\n",
    "fs = 250.0     # 500 Hz sampling rate\n",
    "lowcut = 0.5   # 0.1 Hz is the lowest frequency we will pass\n",
    "highcut = 100.0 # 10  Hz is the highest frequency we will pass."
   ]
  },
  {
   "cell_type": "code",
   "execution_count": 6,
   "metadata": {},
   "outputs": [
    {
     "data": {
      "image/png": "[encoded data removed]",
      "text/plain": [
       "<Figure size 432x288 with 1 Axes>"
      ]
     },
     "metadata": {
      "needs_background": "light"
     },
     "output_type": "display_data"
    }
   ],
   "source": [
    "low_cut_temp  = 8;  \n",
    "high_cut_temp = 15; \n",
    "\n",
    "# Plot an ideal filter \n",
    "plt.figure(0);\n",
    "plt.clf();\n",
    "\n",
    "# Draw out an ideal boxcar filter (you can ignore all of this code, just run it)\n",
    "plt.plot([0.0,     low_cut_temp],  [0, 0], 'b-')\n",
    "plt.plot([low_cut_temp,  low_cut_temp],  [0, 1], 'b-')\n",
    "plt.plot([low_cut_temp,  high_cut_temp], [1, 1], 'b-')\n",
    "plt.plot([high_cut_temp, high_cut_temp], [1, 0], 'b-')\n",
    "plt.plot([high_cut_temp, 100.0],   [0, 0], 'b-', label=\"ideal filter\")\n",
    "plt.grid(True)\n",
    "plt.xlabel('Frequency (Hz)')\n",
    "plt.ylabel('Gain')\n",
    "plt.legend(loc = 'best')\n",
    "\n",
    "plt.show();"
   ]
  },
  {
   "cell_type": "code",
   "execution_count": 7,
   "metadata": {},
   "outputs": [
    {
     "data": {
      "image/png": "[encoded data removed]",
      "text/plain": [
       "<Figure size 432x288 with 1 Axes>"
      ]
     },
     "metadata": {
      "needs_background": "light"
     },
     "output_type": "display_data"
    }
   ],
   "source": [
    "plt.figure(1)\n",
    "plt.clf()\n",
    "\n",
    "orders = [2, 4, 6, 8, 10, 60]; # -- Question 3 --\n",
    "\n",
    "for order in orders:\n",
    "    sos = butter_bandpass(low_cut_temp, high_cut_temp, fs, order = order)\n",
    "    w, h = sosfreqz(sos, worN = 2000)\n",
    "    plt.plot((fs * 0.5 / np.pi) * w, abs(h), label = \"order = %d\" % order)\n",
    "\n",
    "plt.xlabel('Frequency (Hz)')\n",
    "plt.ylabel('Gain')\n",
    "plt.grid(True)\n",
    "plt.legend(loc = 'best')\n",
    "\n",
    "plt.show();"
   ]
  },
  {
   "cell_type": "code",
   "execution_count": null,
   "metadata": {},
   "outputs": [],
   "source": []
  }
 ],
 "metadata": {
  "kernelspec": {
   "display_name": "Python 3",
   "language": "python",
   "name": "python3"
  },
  "language_info": {
   "codemirror_mode": {
    "name": "ipython",
    "version": 3
   },
   "file_extension": ".py",
   "mimetype": "text/x-python",
   "name": "python",
   "nbconvert_exporter": "python",
   "pygments_lexer": "ipython3",
   "version": "3.9.0"
  }
 },
 "nbformat": 4,
 "nbformat_minor": 5
}
