{
 "cells": [
  {
   "cell_type": "markdown",
   "id": "18fb8238",
   "metadata": {},
   "source": [
    "# COGS 189 Team Argus Motor Imaginery Classifier"
   ]
  },
  {
   "cell_type": "markdown",
   "id": "3318d0e6",
   "metadata": {},
   "source": [
    "## Section 1: Setup"
   ]
  },
  {
   "cell_type": "code",
   "execution_count": 1,
   "id": "ee0224bc",
   "metadata": {},
   "outputs": [],
   "source": [
    "# import libraries and packages\n",
    "import numpy as np\n",
    "import tqdm\n",
    "\n",
    "# define constants and dicts\n"
   ]
  },
  {
   "cell_type": "markdown",
   "id": "506a074d",
   "metadata": {},
   "source": [
    "## Section 2: Data Import"
   ]
  },
  {
   "cell_type": "code",
   "execution_count": null,
   "id": "4f94bed9",
   "metadata": {},
   "outputs": [],
   "source": [
    "for i in range(1,10):\n",
    "    'A01T'str(i)\n",
    "\n",
    "raw_dataset = np.load('A01T.npz')  # data contains the data of the subject 1\n",
    "signal = raw_dataset['s']\n",
    "etype = raw_dataset['etyp']\n",
    "epos = raw_dataset['epos']\n",
    "edur = raw_dataset['edur']"
   ]
  }
 ],
 "metadata": {
  "kernelspec": {
   "display_name": "Python 3 (ipykernel)",
   "language": "python",
   "name": "python3"
  },
  "language_info": {
   "codemirror_mode": {
    "name": "ipython",
    "version": 3
   },
   "file_extension": ".py",
   "mimetype": "text/x-python",
   "name": "python",
   "nbconvert_exporter": "python",
   "pygments_lexer": "ipython3",
   "version": "3.9.7"
  }
 },
 "nbformat": 4,
 "nbformat_minor": 5
}
