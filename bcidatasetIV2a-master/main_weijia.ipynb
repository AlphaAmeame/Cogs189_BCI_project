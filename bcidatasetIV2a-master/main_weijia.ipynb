{
 "cells": [
  {
   "cell_type": "markdown",
   "id": "ed016fa3",
   "metadata": {},
   "source": [
    "## Common Spatial Pattern (CSP) Implementation"
   ]
  },
  {
   "cell_type": "markdown",
   "id": "47475b4a",
   "metadata": {},
   "source": [
    "- Estimate Covariance Matrix\n",
    "- Perform Simultaneous Diagonalization\n",
    "- Compute Spatial Filters\n",
    "- Compute Spatial Patterns"
   ]
  },
  {
   "cell_type": "code",
   "execution_count": 94,
   "id": "233a5b37",
   "metadata": {},
   "outputs": [],
   "source": [
    "import numpy as np\n",
    "import scipy.linalg"
   ]
  },
  {
   "cell_type": "code",
   "execution_count": 119,
   "id": "38a07295",
   "metadata": {},
   "outputs": [],
   "source": [
    "def compute_covariance_matrix(X):\n",
    "    return np.sum(X @ X.transpose((0,2,1)), axis=0) / X.shape[0]"
   ]
  },
  {
   "cell_type": "code",
   "execution_count": 120,
   "id": "d73c18cd",
   "metadata": {},
   "outputs": [],
   "source": [
    "def compute_spatial_filters(S1, S2):\n",
    "    return scipy.linalg.eigh(S1, S1+S2)"
   ]
  },
  {
   "cell_type": "code",
   "execution_count": 121,
   "id": "507409f5",
   "metadata": {},
   "outputs": [],
   "source": [
    "X1 = np.random.rand(72,25,750)\n",
    "X2 = np.random.rand(72,25,750)"
   ]
  },
  {
   "cell_type": "code",
   "execution_count": 132,
   "id": "9b3eea14",
   "metadata": {},
   "outputs": [],
   "source": [
    "S1 = compute_covariance_matrix(X1)\n",
    "S2 = compute_covariance_matrix(X2)\n",
    "V, W = compute_spatial_filters(S1, S2)"
   ]
  },
  {
   "cell_type": "code",
   "execution_count": 133,
   "id": "c64ca415",
   "metadata": {},
   "outputs": [
    {
     "data": {
      "text/plain": [
       "array([0.4861745 , 0.48810202, 0.48955762, 0.49035783, 0.4928449 ,\n",
       "       0.49312344, 0.4946354 , 0.49614967, 0.49643738, 0.49711233,\n",
       "       0.49866784, 0.4996848 , 0.50077013, 0.50096149, 0.50155268,\n",
       "       0.50250071, 0.50370843, 0.5055257 , 0.50567436, 0.50730259,\n",
       "       0.50915632, 0.50987747, 0.51164698, 0.51367836, 0.51474487])"
      ]
     },
     "execution_count": 133,
     "metadata": {},
     "output_type": "execute_result"
    }
   ],
   "source": [
    "V"
   ]
  },
  {
   "cell_type": "code",
   "execution_count": 137,
   "id": "e6c562d8",
   "metadata": {
    "scrolled": true
   },
   "outputs": [
    {
     "data": {
      "text/plain": [
       "array([[-5.18164907e-04, -9.38798616e-03, -1.54122629e-02,\n",
       "        -1.50097489e-02,  9.97327966e-03, -2.54278991e-02,\n",
       "         1.14826842e-02, -1.76921203e-02, -1.54790015e-03,\n",
       "        -3.95867442e-03, -4.74540827e-03,  1.07736520e-02,\n",
       "        -3.77268037e-02,  2.72239993e-02,  2.69153827e-02,\n",
       "        -1.54904575e-03,  1.68746034e-02,  1.94873200e-02,\n",
       "        -9.44503152e-03,  2.76102554e-02,  1.42499177e-02,\n",
       "         1.81223830e-02,  3.59425742e-03, -8.81848369e-03,\n",
       "        -1.98556490e-02],\n",
       "       [ 8.92910534e-05, -1.92661885e-02, -7.06532457e-03,\n",
       "        -5.71950628e-03,  1.59391790e-02,  1.77700959e-02,\n",
       "        -8.19425463e-03,  3.10877982e-03, -5.18360943e-02,\n",
       "         1.61541519e-02,  2.05009743e-02, -9.27954686e-03,\n",
       "         1.81491091e-03,  1.49337506e-02,  3.91975423e-02,\n",
       "        -8.60190874e-03,  1.89076759e-03, -1.11789875e-02,\n",
       "        -5.54871470e-03, -2.23903439e-02, -1.82973737e-03,\n",
       "        -1.51838973e-02,  2.24482065e-02, -1.74784030e-03,\n",
       "         1.59163222e-02],\n",
       "       [ 9.90387647e-04, -7.88041714e-03, -5.76243896e-03,\n",
       "         3.77350218e-02, -5.92329896e-03, -2.29032048e-02,\n",
       "        -3.17205780e-02, -1.14277694e-02,  1.07259722e-02,\n",
       "         3.32730444e-03,  3.01418668e-02,  1.92244007e-02,\n",
       "         2.40254403e-02,  7.78465582e-03,  1.46383650e-03,\n",
       "         1.15001356e-02,  3.42702456e-03, -1.82089174e-02,\n",
       "        -1.79559895e-02, -1.71240277e-02,  5.18018824e-03,\n",
       "         1.39622291e-02,  1.30150348e-02, -6.51206276e-03,\n",
       "        -3.40754682e-02],\n",
       "       [-2.18304056e-02,  2.93049378e-02,  1.13525624e-02,\n",
       "        -2.88227614e-02,  1.42083107e-02, -1.94677382e-02,\n",
       "        -1.94932865e-02,  2.13511774e-02,  4.18451840e-03,\n",
       "         1.14707101e-02,  1.30311140e-02,  3.04392705e-02,\n",
       "         9.80271805e-03, -2.01868268e-02,  6.52086623e-03,\n",
       "        -1.69091962e-02, -2.07252938e-02,  1.34058723e-02,\n",
       "         1.11985302e-02, -7.85129265e-03, -1.33420826e-03,\n",
       "         3.81956859e-03,  5.25777340e-03, -2.12248804e-02,\n",
       "         9.59773119e-03],\n",
       "       [-1.33314556e-02, -2.73266193e-02,  6.59537920e-03,\n",
       "        -3.86490415e-03,  2.67165319e-03,  1.98024980e-02,\n",
       "        -1.74805358e-02, -2.89601773e-02,  1.67157026e-04,\n",
       "        -1.97538694e-02,  2.55951736e-02,  1.95813989e-02,\n",
       "         1.76861419e-02, -8.28551048e-03,  4.65968810e-03,\n",
       "        -1.18295577e-02,  9.58544032e-03,  3.32246675e-02,\n",
       "         1.07461072e-02,  9.02146721e-03,  7.21119268e-03,\n",
       "        -1.93708735e-02, -3.52530784e-02,  2.03975480e-02,\n",
       "        -1.15197865e-04],\n",
       "       [ 1.63405822e-02, -1.36713046e-02, -8.92426355e-03,\n",
       "        -2.09825806e-02, -1.62923983e-02, -1.46522924e-03,\n",
       "        -3.02310726e-03, -1.73648995e-02,  1.40999772e-02,\n",
       "         1.34832594e-02,  1.84064715e-02, -1.20680111e-02,\n",
       "         1.39596988e-02,  2.83392982e-02,  1.35181800e-04,\n",
       "         7.54053489e-04, -1.29136379e-02,  1.38976236e-03,\n",
       "         7.32141484e-03, -4.87122405e-03, -2.76994144e-02,\n",
       "         3.94058172e-02, -2.39890970e-02, -2.31341263e-02,\n",
       "         2.99299139e-02]])"
      ]
     },
     "execution_count": 137,
     "metadata": {},
     "output_type": "execute_result"
    }
   ],
   "source": [
    "np.hstack((W[:,:3],W[:,-3:])).T"
   ]
  },
  {
   "cell_type": "code",
   "execution_count": null,
   "id": "ffaf7643",
   "metadata": {},
   "outputs": [],
   "source": [
    "np.hstack((W[:,:3],W[:,-3:])).T"
   ]
  },
  {
   "cell_type": "code",
   "execution_count": 144,
   "id": "1b30b1e2",
   "metadata": {},
   "outputs": [],
   "source": [
    "A = np.random.rand(2,3,4)"
   ]
  }
 ],
 "metadata": {
  "kernelspec": {
   "display_name": "Python 3 (ipykernel)",
   "language": "python",
   "name": "python3"
  },
  "language_info": {
   "codemirror_mode": {
    "name": "ipython",
    "version": 3
   },
   "file_extension": ".py",
   "mimetype": "text/x-python",
   "name": "python",
   "nbconvert_exporter": "python",
   "pygments_lexer": "ipython3",
   "version": "3.9.7"
  }
 },
 "nbformat": 4,
 "nbformat_minor": 5
}
