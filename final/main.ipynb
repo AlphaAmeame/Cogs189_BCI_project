{
 "cells": [
  {
   "cell_type": "markdown",
   "id": "201f0811",
   "metadata": {},
   "source": [
    "# COGS 189 Final Project \n",
    "\n",
    "**Team Name**  \n",
    "Argus\n",
    "\n",
    "**Team Members**  \n",
    "Xiaolong Huang\t(xih002@ucsd.edu),  \n",
    "Bohan Lei\t\t(blei@ucsd.edu),  \n",
    "Mingze Xu\t\t(m6xu@ucsd.edu),  \n",
    "Weijia Zeng\t\t(wezeng@ucsd.edu)     \n",
    "\n",
    "**Project Goal**\n",
    "- To fully understand and implement the vanilla Common Spatial Pattern (CSP) algorithm for EEG pattern recognition.\n",
    "- To experiment with different types of Common Spatial Pattern (CSP) and Linear Discriminant Analysis (LDA) algorithms in motor imagery signal pattern classification.\n",
    "- To improve motor imagery signal pattern classification accuracy by different CSP and LDA hyperparameter configurations.\n",
    "\n",
    "**Sources**\n",
    "- Data source: https://github.com/bregydoc/bcidatasetIV2a\n",
    "- Data explanation: https://www.bbci.de/competition/iv/desc_2a.pdf\n",
    "- CSP paper: https://ieeexplore.ieee.org/document/4408441\n",
    "- SACSP paper: https://cogsci.ucsd.edu/~desa/Winter_conference_on_bci_2022.pdf"
   ]
  },
  {
   "cell_type": "markdown",
   "id": "17b48ef2",
   "metadata": {},
   "source": [
    "## Section 1: Setup"
   ]
  },
  {
   "cell_type": "code",
   "execution_count": 2,
   "id": "82f97c42",
   "metadata": {},
   "outputs": [],
   "source": [
    "import numpy as np\n",
    "from scipy.linalg import eigh\n",
    "from scipy.signal import butter, sosfiltfilt, sosfreqz\n",
    "import matplotlib.pyplot as plt\n",
    "from sklearn.discriminant_analysis import LinearDiscriminantAnalysis as LDA\n",
    "from sklearn.linear_model import LinearRegression as LR\n",
    "import scipy.linalg"
   ]
  },
  {
   "cell_type": "markdown",
   "id": "b8218fa3",
   "metadata": {},
   "source": [
    "## Section 2: Data Import"
   ]
  },
  {
   "cell_type": "code",
   "execution_count": 3,
   "id": "4001d806",
   "metadata": {},
   "outputs": [],
   "source": [
    "n_subject = 9\n",
    "\n",
    "data_dir = './data/'\n",
    "data_prefix = 'A'\n",
    "data_suffix = '.npz'\n",
    "data_type = {'train':'T', 'test':'E'}\n",
    "data_path = data_dir + data_prefix + '{subject:02d}{type_:s}' + data_suffix"
   ]
  },
  {
   "cell_type": "code",
   "execution_count": 4,
   "id": "5c4bf978",
   "metadata": {},
   "outputs": [],
   "source": [
    "raw_train_subject = []\n",
    "raw_test_subject = []\n",
    "\n",
    "for subject_num in range(1, n_subject+1):\n",
    "    train_path = data_path.format(subject=subject_num, type_=data_type['train'])\n",
    "    test_path  = data_path.format(subject=subject_num, type_=data_type['test'])\n",
    "    raw_train_subject.append(np.load(train_path))\n",
    "    raw_test_subject.append(np.load(test_path))"
   ]
  },
  {
   "cell_type": "code",
   "execution_count": 5,
   "id": "e1a6d2b1",
   "metadata": {},
   "outputs": [],
   "source": [
    "class_code = {'left':769, 'right':770, 'foot':771, 'tongue':772}"
   ]
  },
  {
   "cell_type": "code",
   "execution_count": 6,
   "id": "5a91b209",
   "metadata": {},
   "outputs": [],
   "source": [
    "# globally\n",
    "fs = 250                                    # sampling frequency\n",
    "\n",
    "# within in each epoch\n",
    "cue_start = 2.                              # cue starts at\n",
    "cue_end = 3.25                              # cue ends at\n",
    "smr_start = 3.                              # smr starts after\n",
    "smr_end = 6.                                # smr ends after\n",
    "cue_start_offset = round(cue_start * fs)    # the first cue sample is at \n",
    "cue_end_offset   = round(cue_end * fs)      # the last cue sample is at\n",
    "smr_start_offset = round(smr_start * fs)    # the first smr sample is after\n",
    "smr_end_offset   = round(smr_end * fs)      # the last smr sample is after"
   ]
  },
  {
   "cell_type": "code",
   "execution_count": 7,
   "id": "0469cce3",
   "metadata": {},
   "outputs": [],
   "source": [
    "train_subject = []\n",
    "for raw_data in raw_train_subject: \n",
    "    signal = raw_data['s'].T\n",
    "    cue_class = raw_data['etyp']\n",
    "    cue_position = raw_data['epos']\n",
    "    \n",
    "    X_train = {}\n",
    "    \n",
    "    for name, code in class_code.items():\n",
    "        epoch_start = cue_position[cue_class==code] - cue_start_offset\n",
    "        \n",
    "        epochs = []\n",
    "        for i in range(len(epoch_start)):\n",
    "            epochs.append(signal[:, epoch_start[i]+smr_start_offset:epoch_start[i]+smr_end_offset])\n",
    "        epochs = np.stack(epochs)\n",
    "        \n",
    "        X_train[name] = epochs\n",
    "    \n",
    "    train_subject.append(X_train)"
   ]
  },
  {
   "cell_type": "code",
   "execution_count": 9,
   "id": "5d7ef623",
   "metadata": {},
   "outputs": [],
   "source": [
    "test_subject = []\n",
    "for raw_data in raw_test_subject: \n",
    "    signal = raw_data['s'].T\n",
    "    cue_class = raw_data['etyp']\n",
    "    cue_position = raw_data['epos']\n",
    "    \n",
    "    X_test = {}\n",
    "    \n",
    "    name = 'unknown'\n",
    "    code = 783\n",
    "    \n",
    "    epoch_start = cue_position[cue_class==code] - cue_start_offset\n",
    "\n",
    "    epochs = []\n",
    "    for i in range(len(epoch_start)):\n",
    "        epochs.append(signal[:, epoch_start[i]+smr_start_offset:epoch_start[i]+smr_end_offset])\n",
    "    epochs = np.stack(epochs)\n",
    "\n",
    "    X_test[name] = epochs\n",
    "    \n",
    "    test_subject.append(X_test)"
   ]
  },
  {
   "cell_type": "code",
   "execution_count": 12,
   "id": "6bd1c0cf",
   "metadata": {
    "scrolled": true
   },
   "outputs": [
    {
     "data": {
      "text/plain": [
       "(288, 25, 750)"
      ]
     },
     "execution_count": 12,
     "metadata": {},
     "output_type": "execute_result"
    }
   ],
   "source": [
    "test_subject[0]['unknown'].shape"
   ]
  },
  {
   "cell_type": "markdown",
   "id": "d29c38de",
   "metadata": {},
   "source": [
    "## Section 3: Signal Processing"
   ]
  },
  {
   "cell_type": "code",
   "execution_count": null,
   "id": "64928ef6",
   "metadata": {},
   "outputs": [],
   "source": []
  },
  {
   "cell_type": "markdown",
   "id": "b7d165e3",
   "metadata": {},
   "source": [
    "## Section 4: Common Spatial Pattern"
   ]
  },
  {
   "cell_type": "code",
   "execution_count": null,
   "id": "64f2a1c1",
   "metadata": {},
   "outputs": [],
   "source": [
    "def compute_covariance_matrix(X):\n",
    "    return np.sum(X @ X.transpose((0,2,1)), axis=0) / X.shape[0]"
   ]
  },
  {
   "cell_type": "code",
   "execution_count": null,
   "id": "e1cbb9d4",
   "metadata": {},
   "outputs": [],
   "source": [
    "def compute_spatial_filters(S1, S2):\n",
    "    return scipy.linalg.eigh(S1, S1+S2)"
   ]
  },
  {
   "cell_type": "markdown",
   "id": "19f66323",
   "metadata": {},
   "source": [
    "## Section 5: Linear Discriminant Analysis"
   ]
  },
  {
   "cell_type": "code",
   "execution_count": null,
   "id": "4413e8e8",
   "metadata": {},
   "outputs": [],
   "source": [
    "# process data for training filter \n"
   ]
  },
  {
   "cell_type": "code",
   "execution_count": 2,
   "id": "ef0b5bba",
   "metadata": {},
   "outputs": [],
   "source": [
    "def Process_w(w, j):\n",
    "    processed_w = np.delete(w, list(range(int(j/2), int(25-j/2))) , axis = 1)\n",
    "                            \n",
    "    return processed_w"
   ]
  },
  {
   "cell_type": "code",
   "execution_count": 3,
   "id": "218ecf6a",
   "metadata": {},
   "outputs": [],
   "source": [
    "def CSPFilter(data, w, label, j):\n",
    "    w = np.array(w)\n",
    "    label = label.reshape()\n",
    "    data = np.array(data)\n",
    "    filter = LDA()\n",
    "    processed_data = []\n",
    "    for k in range(data.shape[0]):\n",
    "        processed_data_temp = [1]\n",
    "        for i in range(0,j):\n",
    "            temp_data = np.log(w[:,i].T @ data[k,:,:] @ data[k,:,:].T @ w[:,i])\n",
    "            processed_data_temp.append(temp_data)\n",
    "        processed_data.append(np.array(processed_data_temp))\n",
    "    processed_data = np.vstack(processed_data)\n",
    "    filter.fit(processed_data,label)\n",
    "    return filter"
   ]
  },
  {
   "cell_type": "code",
   "execution_count": null,
   "id": "1b0bc26e",
   "metadata": {},
   "outputs": [],
   "source": []
  }
 ],
 "metadata": {
  "kernelspec": {
   "display_name": "Python 3 (ipykernel)",
   "language": "python",
   "name": "python3"
  },
  "language_info": {
   "codemirror_mode": {
    "name": "ipython",
    "version": 3
   },
   "file_extension": ".py",
   "mimetype": "text/x-python",
   "name": "python",
   "nbconvert_exporter": "python",
   "pygments_lexer": "ipython3",
   "version": "3.9.7"
  }
 },
 "nbformat": 4,
 "nbformat_minor": 5
}
