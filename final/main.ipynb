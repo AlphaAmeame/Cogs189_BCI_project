{
 "cells": [
  {
   "cell_type": "markdown",
   "id": "201f0811",
   "metadata": {},
   "source": [
    "# COGS 189 Final Project \n",
    "\n",
    "**Team Name**  \n",
    "Argus\n",
    "\n",
    "**Team Members**  \n",
    "Xiaolong Huang\t(xih002@ucsd.edu),  \n",
    "Bohan Lei\t\t(blei@ucsd.edu),  \n",
    "Mingze Xu\t\t(m6xu@ucsd.edu),  \n",
    "Weijia Zeng\t\t(wezeng@ucsd.edu)     \n",
    "\n",
    "**Project Goal**\n",
    "- To fully understand and implement the vanilla Common Spatial Pattern (CSP) algorithm for EEG pattern recognition.\n",
    "- To experiment with different types of Common Spatial Pattern (CSP) and Linear Discriminant Analysis (LDA) algorithms in motor imagery signal pattern classification.\n",
    "- To improve motor imagery signal pattern classification accuracy by different CSP and LDA hyperparameter configurations.\n",
    "\n",
    "**Sources**\n",
    "- Data source: https://github.com/bregydoc/bcidatasetIV2a\n",
    "- Data explanation: https://www.bbci.de/competition/iv/desc_2a.pdf\n",
    "- CSP paper: https://ieeexplore.ieee.org/document/4408441\n",
    "- SACSP paper: https://cogsci.ucsd.edu/~desa/Winter_conference_on_bci_2022.pdf"
   ]
  },
  {
   "cell_type": "markdown",
   "id": "17b48ef2",
   "metadata": {},
   "source": [
    "## Section 1: Setup"
   ]
  },
  {
   "cell_type": "code",
   "execution_count": 65,
   "id": "82f97c42",
   "metadata": {},
   "outputs": [],
   "source": [
    "import numpy as np\n",
    "from tqdm import tqdm\n",
    "from scipy.linalg import eigh\n",
    "from scipy.signal import butter, sosfiltfilt, sosfreqz\n",
    "import matplotlib.pyplot as plt\n",
    "from sklearn.utils import shuffle\n",
    "from sklearn.discriminant_analysis import LinearDiscriminantAnalysis as LDA\n",
    "from sklearn.linear_model import LinearRegression as LR\n",
    "import scipy.linalg"
   ]
  },
  {
   "cell_type": "markdown",
   "id": "b8218fa3",
   "metadata": {},
   "source": [
    "## Section 2: Data Import"
   ]
  },
  {
   "cell_type": "code",
   "execution_count": 3,
   "id": "4001d806",
   "metadata": {},
   "outputs": [],
   "source": [
    "n_subject = 9\n",
    "\n",
    "data_dir = './data/'\n",
    "data_prefix = 'A'\n",
    "data_suffix = '.npz'\n",
    "data_type = {'train':'T', 'test':'E'}\n",
    "data_path = data_dir + data_prefix + '{subject:02d}{type_:s}' + data_suffix"
   ]
  },
  {
   "cell_type": "code",
   "execution_count": 4,
   "id": "5c4bf978",
   "metadata": {},
   "outputs": [],
   "source": [
    "raw_train_subject = []\n",
    "raw_test_subject = []\n",
    "\n",
    "for subject_num in range(1, n_subject+1):\n",
    "    train_path = data_path.format(subject=subject_num, type_=data_type['train'])\n",
    "    test_path  = data_path.format(subject=subject_num, type_=data_type['test'])\n",
    "    raw_train_subject.append(np.load(train_path))\n",
    "    raw_test_subject.append(np.load(test_path))"
   ]
  },
  {
   "cell_type": "code",
   "execution_count": 5,
   "id": "e1a6d2b1",
   "metadata": {},
   "outputs": [],
   "source": [
    "class_code = {'left':769, 'right':770, 'foot':771, 'tongue':772}"
   ]
  },
  {
   "cell_type": "code",
   "execution_count": 6,
   "id": "5a91b209",
   "metadata": {},
   "outputs": [],
   "source": [
    "# globally\n",
    "fs = 250                                    # sampling frequency\n",
    "\n",
    "# within in each epoch\n",
    "cue_start = 2.                              # cue starts at\n",
    "cue_end = 3.25                              # cue ends at\n",
    "smr_start = 3.                              # smr starts after\n",
    "smr_end = 6.                                # smr ends after\n",
    "cue_start_offset = round(cue_start * fs)    # the first cue sample is at \n",
    "cue_end_offset   = round(cue_end * fs)      # the last cue sample is at\n",
    "smr_start_offset = round(smr_start * fs)    # the first smr sample is after\n",
    "smr_end_offset   = round(smr_end * fs)      # the last smr sample is after"
   ]
  },
  {
   "cell_type": "code",
   "execution_count": 7,
   "id": "0469cce3",
   "metadata": {},
   "outputs": [],
   "source": [
    "train_subject = []\n",
    "for raw_data in raw_train_subject: \n",
    "    signal = raw_data['s'].T\n",
    "    cue_class = raw_data['etyp']\n",
    "    cue_position = raw_data['epos']\n",
    "    \n",
    "    X_train = {}\n",
    "    \n",
    "    for name, code in class_code.items():\n",
    "        epoch_start = cue_position[cue_class==code] - cue_start_offset\n",
    "        \n",
    "        epochs = []\n",
    "        for i in range(len(epoch_start)):\n",
    "            epochs.append(signal[:, epoch_start[i]+smr_start_offset:epoch_start[i]+smr_end_offset])\n",
    "        epochs = np.stack(epochs)\n",
    "        \n",
    "        X_train[name] = epochs\n",
    "    \n",
    "    train_subject.append(X_train)"
   ]
  },
  {
   "cell_type": "code",
   "execution_count": 9,
   "id": "bc59df47",
   "metadata": {},
   "outputs": [],
   "source": [
    "test_subject = []\n",
    "for raw_data in raw_test_subject: \n",
    "    signal = raw_data['s'].T\n",
    "    cue_class = raw_data['etyp']\n",
    "    cue_position = raw_data['epos']\n",
    "    \n",
    "    X_test = {}\n",
    "    \n",
    "    name = 'unknown'\n",
    "    code = 783\n",
    "    \n",
    "    epoch_start = cue_position[cue_class==code] - cue_start_offset\n",
    "\n",
    "    epochs = []\n",
    "    for i in range(len(epoch_start)):\n",
    "        epochs.append(signal[:, epoch_start[i]+smr_start_offset:epoch_start[i]+smr_end_offset])\n",
    "    epochs = np.stack(epochs)\n",
    "\n",
    "    X_test[name] = epochs\n",
    "    \n",
    "    test_subject.append(X_test)"
   ]
  },
  {
   "cell_type": "code",
   "execution_count": 16,
   "id": "61e041ce",
   "metadata": {
    "scrolled": true
   },
   "outputs": [
    {
     "data": {
      "text/plain": [
       "array([[[ -0.24414062,   3.17382812,   0.        , ...,  -9.32617188,\n",
       "          -7.12890625, -14.50195312],\n",
       "        [  4.58984375,   2.9296875 ,  -0.87890625, ..., -12.15820312,\n",
       "         -11.62109375, -16.69921875],\n",
       "        [ -0.73242188,   1.61132812,  -1.85546875, ..., -10.7421875 ,\n",
       "          -9.32617188, -16.2109375 ],\n",
       "        ...,\n",
       "        [  4.8828125 ,   8.30078125,   6.34765625, ...,   2.9296875 ,\n",
       "           4.8828125 ,   2.44140625],\n",
       "        [  0.9765625 ,   6.34765625,   3.90625   , ...,   8.30078125,\n",
       "           3.90625   ,  -2.9296875 ],\n",
       "        [  7.32421875,   6.34765625,   7.8125    , ...,  -0.48828125,\n",
       "           3.41796875,  -4.8828125 ]],\n",
       "\n",
       "       [[-11.1328125 ,  -6.93359375,  -1.61132812, ...,   4.54101562,\n",
       "           1.51367188,   1.02539062],\n",
       "        [-12.5       ,  -7.76367188,  -2.97851562, ...,  -1.31835938,\n",
       "          -2.97851562,  -1.7578125 ],\n",
       "        [-11.37695312,  -3.80859375,   2.734375  , ...,   3.27148438,\n",
       "           0.43945312,  -0.5859375 ],\n",
       "        ...,\n",
       "        [  0.9765625 ,  -1.46484375,   2.9296875 , ...,   2.9296875 ,\n",
       "          -0.9765625 ,   1.46484375],\n",
       "        [ -2.9296875 ,  -1.46484375,   0.9765625 , ..., -12.20703125,\n",
       "          -5.859375  , -12.6953125 ],\n",
       "        [  4.8828125 ,   7.8125    ,   9.765625  , ...,   2.9296875 ,\n",
       "           3.41796875,   4.39453125]],\n",
       "\n",
       "       [[-11.96289062, -10.83984375, -14.16015625, ..., -29.19921875,\n",
       "         -21.72851562, -19.7265625 ],\n",
       "        [-19.38476562, -17.48046875, -22.16796875, ..., -26.70898438,\n",
       "         -22.60742188, -20.45898438],\n",
       "        [-16.84570312, -15.91796875, -20.3125    , ..., -27.68554688,\n",
       "         -21.53320312, -19.921875  ],\n",
       "        ...,\n",
       "        [ -5.859375  ,   0.48828125,  -8.30078125, ...,  -3.41796875,\n",
       "          -2.9296875 ,  -1.46484375],\n",
       "        [-22.4609375 ,  -8.7890625 ,  -9.765625  , ..., -14.6484375 ,\n",
       "         -12.20703125,  -4.8828125 ],\n",
       "        [ -1.46484375,  14.16015625,   6.8359375 , ...,  -8.7890625 ,\n",
       "          -7.8125    ,  -2.9296875 ]],\n",
       "\n",
       "       ...,\n",
       "\n",
       "       [[ 13.96484375,  19.23828125,  17.1875    , ...,   9.27734375,\n",
       "           9.91210938,   3.7109375 ],\n",
       "        [  6.68945312,  12.20703125,   6.93359375, ...,   7.6171875 ,\n",
       "          11.9140625 ,   4.78515625],\n",
       "        [ 11.03515625,  15.47851562,  12.35351562, ...,  10.88867188,\n",
       "          12.20703125,   7.421875  ],\n",
       "        ...,\n",
       "        [ -0.48828125,  10.7421875 ,   5.859375  , ...,   0.        ,\n",
       "           3.41796875,   3.90625   ],\n",
       "        [  5.37109375,  17.08984375,  14.6484375 , ...,   0.48828125,\n",
       "           6.34765625,   3.41796875],\n",
       "        [ -0.48828125,  10.7421875 ,  10.25390625, ...,   5.859375  ,\n",
       "           5.859375  ,  -1.46484375]],\n",
       "\n",
       "       [[ -0.92773438,  -3.7109375 ,  -6.20117188, ..., -29.98046875,\n",
       "         -16.35742188, -15.234375  ],\n",
       "        [ -0.14648438,  -1.12304688,  -3.36914062, ..., -28.02734375,\n",
       "         -17.578125  , -11.71875   ],\n",
       "        [  0.390625  ,  -3.95507812,  -6.20117188, ..., -34.1796875 ,\n",
       "         -20.75195312, -18.84765625],\n",
       "        ...,\n",
       "        [  3.41796875,   3.41796875,  -2.44140625, ...,  -2.9296875 ,\n",
       "          -4.8828125 ,  -0.9765625 ],\n",
       "        [ -3.90625   ,  -5.37109375,  -5.37109375, ...,  -6.34765625,\n",
       "          -5.37109375,  -7.32421875],\n",
       "        [ -7.32421875,  -6.34765625,  -2.44140625, ...,  -5.37109375,\n",
       "           0.        ,  -6.34765625]],\n",
       "\n",
       "       [[ -1.3671875 ,   4.24804688,   1.70898438, ...,  -9.375     ,\n",
       "          -3.56445312,  -2.88085938],\n",
       "        [ -4.4921875 ,  -4.24804688,  -2.00195312, ...,  -5.17578125,\n",
       "          -3.27148438,  -0.390625  ],\n",
       "        [ -6.68945312,  -1.26953125,  -2.58789062, ...,  -5.22460938,\n",
       "          -0.68359375,  -0.83007812],\n",
       "        ...,\n",
       "        [  7.32421875,  11.23046875,   8.30078125, ...,  37.109375  ,\n",
       "          39.0625    ,  42.48046875],\n",
       "        [ 24.4140625 ,  27.34375   ,  21.97265625, ...,  -3.90625   ,\n",
       "          -2.9296875 ,   0.48828125],\n",
       "        [  1.46484375,   0.        ,  -3.41796875, ..., -45.41015625,\n",
       "         -43.9453125 , -41.015625  ]]])"
      ]
     },
     "execution_count": 16,
     "metadata": {},
     "output_type": "execute_result"
    }
   ],
   "source": [
    "train_subject[0]['left']"
   ]
  },
  {
   "cell_type": "markdown",
   "id": "6a7f198d",
   "metadata": {},
   "source": [
    "## Section 3: Data Processing"
   ]
  },
  {
   "cell_type": "code",
   "execution_count": 24,
   "id": "0f255892",
   "metadata": {},
   "outputs": [],
   "source": [
    "fs = 250\n",
    "lowcut = 9\n",
    "highcut = 14"
   ]
  },
  {
   "cell_type": "code",
   "execution_count": 25,
   "id": "99a22f9c",
   "metadata": {},
   "outputs": [],
   "source": [
    "def butter_bandpass(lowcut, highcut, fs, order = 2):\n",
    "        nyq = 0.5 * fs\n",
    "        low = lowcut / nyq\n",
    "        high = highcut / nyq\n",
    "        sos = butter(order, [low, high], analog = False, btype = 'band', output = 'sos')\n",
    "        return sos\n",
    "\n",
    "def butter_bandpass_filter(data, lowcut, highcut, fs, order = 2):\n",
    "        sos = butter_bandpass(lowcut, highcut, fs, order = order)\n",
    "        y = sosfiltfilt(sos, data)\n",
    "        return y"
   ]
  },
  {
   "cell_type": "code",
   "execution_count": 33,
   "id": "092d5d02",
   "metadata": {},
   "outputs": [
    {
     "name": "stderr",
     "output_type": "stream",
     "text": [
      "100%|██████████████████████████████████████████████████████████████████████████████████████████████████████████████████████████████████████████████████████████████████████████████████████████████████████████████████████████████████████████████████████| 9/9 [01:03<00:00,  7.07s/it]\n"
     ]
    }
   ],
   "source": [
    "for i in tqdm(range(len(train_subject))):\n",
    "    for key in train_subject[i]:\n",
    "        X_bandpass = np.apply_along_axis(butter_bandpass_filter, 2, train_subject[i][key], lowcut, highcut, fs, 4)\n",
    "        T = X_bandpass.shape[2]\n",
    "        #X = (X_bandpass / np.sqrt(T)) @ (np.identity(T) - np.ones((T,T)))\n",
    "        train_subject[i][key] = X_bandpass - np.tile( X_bandpass.mean(axis=2).reshape(X_bandpass.shape[0],X_bandpass.shape[1], 1), X_bandpass.shape[2]) "
   ]
  },
  {
   "cell_type": "code",
   "execution_count": null,
   "id": "e288e507",
   "metadata": {
    "scrolled": true
   },
   "outputs": [],
   "source": [
    "train_subject[0]['left'][0][0]"
   ]
  },
  {
   "cell_type": "markdown",
   "id": "eb740ebb",
   "metadata": {},
   "source": [
    "## Section 4: Data Selection"
   ]
  },
  {
   "cell_type": "code",
   "execution_count": 130,
   "id": "83cb1b3d",
   "metadata": {
    "scrolled": true
   },
   "outputs": [],
   "source": [
    "subject_num = 0\n",
    "class_pos = 'left'\n",
    "class_neg = 'right'\n",
    "\n",
    "train_test_ratio = 0.6"
   ]
  },
  {
   "cell_type": "code",
   "execution_count": 131,
   "id": "8194aeba",
   "metadata": {},
   "outputs": [],
   "source": [
    "X_pos = train_subject[subject_num][class_pos]\n",
    "X_neg = train_subject[subject_num][class_neg]\n",
    "\n",
    "np.random.shuffle(X_pos)\n",
    "np.random.shuffle(X_neg)\n",
    "\n",
    "X_test_pos = X_pos[int(n_trials * train_test_ratio):, :, :]\n",
    "X_test_neg = X_neg[int(n_trials * train_test_ratio):, :, :]\n",
    "\n",
    "X_train_pos = X_pos[:int(n_trials * train_test_ratio), :, :]\n",
    "X_train_neg = X_neg[:int(n_trials * train_test_ratio), :, :]\n",
    "\n",
    "X_train = np.concatenate((X_train_pos, X_train_neg), axis=0)\n",
    "y_train = np.concatenate((np.ones(X_train_pos.shape[0]), -np.ones(X_train_neg.shape[0])), axis=0)\n",
    "\n",
    "X_test = np.concatenate((X_test_pos, X_test_neg), axis=0)\n",
    "y_test = np.concatenate((np.ones(X_test_pos.shape[0]), -np.ones(X_test_neg.shape[0])), axis=0)\n",
    "\n",
    "X_train, y_train = shuffle(X_train, y_train)\n",
    "X_test, y_test = shuffle(X_test, y_test)"
   ]
  },
  {
   "cell_type": "code",
   "execution_count": 132,
   "id": "467171ba",
   "metadata": {},
   "outputs": [
    {
     "data": {
      "text/plain": [
       "(58,)"
      ]
     },
     "execution_count": 132,
     "metadata": {},
     "output_type": "execute_result"
    }
   ],
   "source": [
    "y_test.shape"
   ]
  },
  {
   "cell_type": "markdown",
   "id": "b7d165e3",
   "metadata": {},
   "source": [
    "## Section 5: Common Spatial Pattern"
   ]
  },
  {
   "cell_type": "code",
   "execution_count": 133,
   "id": "d06c5fd3",
   "metadata": {},
   "outputs": [],
   "source": [
    "def compute_covariance_matrix(X):\n",
    "    return np.sum(X @ X.transpose((0,2,1)), axis=0) / X.shape[0]\n",
    "\n",
    "def compute_spatial_filters(S1, S2):\n",
    "    return scipy.linalg.eigh(S1, S1+S2)"
   ]
  },
  {
   "cell_type": "code",
   "execution_count": 134,
   "id": "3aa919f6",
   "metadata": {},
   "outputs": [],
   "source": [
    "S1 = compute_covariance_matrix(X_train_pos)\n",
    "S2 = compute_covariance_matrix(X_train_neg)\n",
    "L, W = compute_spatial_filters(S1, S2)"
   ]
  },
  {
   "cell_type": "code",
   "execution_count": 135,
   "id": "440dd645",
   "metadata": {},
   "outputs": [
    {
     "data": {
      "text/plain": [
       "(25, 25)"
      ]
     },
     "execution_count": 135,
     "metadata": {},
     "output_type": "execute_result"
    }
   ],
   "source": [
    "W.shape"
   ]
  },
  {
   "cell_type": "markdown",
   "id": "19f66323",
   "metadata": {},
   "source": [
    "## Section 6: Linear Discriminant Analysis"
   ]
  },
  {
   "cell_type": "code",
   "execution_count": 136,
   "id": "4413e8e8",
   "metadata": {},
   "outputs": [],
   "source": [
    "J = 6"
   ]
  },
  {
   "cell_type": "code",
   "execution_count": 137,
   "id": "ef0b5bba",
   "metadata": {},
   "outputs": [],
   "source": [
    "def Process_w(w, j):\n",
    "    processed_w = np.delete(w, list(range(int(j/2), int(25-j/2))) , axis = 1)\n",
    "                            \n",
    "    return processed_w"
   ]
  },
  {
   "cell_type": "code",
   "execution_count": 138,
   "id": "8fe28bff",
   "metadata": {},
   "outputs": [],
   "source": [
    "def filter_input(data, w, j):\n",
    "    processed_data = []\n",
    "    for k in range(data.shape[0]):\n",
    "        processed_data_temp = [1]\n",
    "        for i in range(0,j):\n",
    "            temp_data = np.log(w[:,i].T @ data[k,:,:] @ data[k,:,:].T @ w[:,i])\n",
    "            processed_data_temp.append(temp_data)\n",
    "        processed_data.append(np.array(processed_data_temp))\n",
    "    return np.vstack(processed_data)"
   ]
  },
  {
   "cell_type": "code",
   "execution_count": 139,
   "id": "6a15ddbc",
   "metadata": {},
   "outputs": [],
   "source": [
    "def CSPFilter(data, w, label, j):\n",
    "    w = np.array(w)\n",
    "    data = np.array(data)\n",
    "    model = LDA()\n",
    "    processed_data = filter_input(data, w, j)\n",
    "    model.fit(processed_data,label)\n",
    "    return model"
   ]
  },
  {
   "cell_type": "code",
   "execution_count": 140,
   "id": "1b0bc26e",
   "metadata": {},
   "outputs": [
    {
     "data": {
      "text/plain": [
       "0.8103448275862069"
      ]
     },
     "execution_count": 140,
     "metadata": {},
     "output_type": "execute_result"
    }
   ],
   "source": [
    "W_ = Process_w(W, J)\n",
    "model = CSPFilter(X_train, W_, y_train, J)\n",
    "model.score(filter_input(X_test, W_, J), y_test)"
   ]
  }
 ],
 "metadata": {
  "kernelspec": {
   "display_name": "Python 3 (ipykernel)",
   "language": "python",
   "name": "python3"
  },
  "language_info": {
   "codemirror_mode": {
    "name": "ipython",
    "version": 3
   },
   "file_extension": ".py",
   "mimetype": "text/x-python",
   "name": "python",
   "nbconvert_exporter": "python",
   "pygments_lexer": "ipython3",
   "version": "3.9.7"
  }
 },
 "nbformat": 4,
 "nbformat_minor": 5
}
