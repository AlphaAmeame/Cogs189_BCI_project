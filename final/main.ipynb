{
 "cells": [
  {
   "cell_type": "markdown",
   "id": "201f0811",
   "metadata": {},
   "source": [
    "# COGS 189 Final Project \n",
    "\n",
    "**Team Name**  \n",
    "Argus\n",
    "\n",
    "**Team Members**  \n",
    "Xiaolong Huang\t(xih002@ucsd.edu),  \n",
    "Bohan Lei\t\t(blei@ucsd.edu),  \n",
    "Mingze Xu\t\t(m6xu@ucsd.edu),  \n",
    "Weijia Zeng\t\t(wezeng@ucsd.edu)     \n",
    "\n",
    "**Project Goal**\n",
    "- To fully understand and implement the vanilla Common Spatial Pattern (CSP) algorithm for EEG pattern recognition.\n",
    "- To experiment with different types of Common Spatial Pattern (CSP) and Linear Discriminant Analysis (LDA) algorithms in motor imagery signal pattern classification.\n",
    "- To improve motor imagery signal pattern classification accuracy by different CSP and LDA hyperparameter configurations.\n",
    "\n",
    "**Sources**\n",
    "- Data source: https://github.com/bregydoc/bcidatasetIV2a\n",
    "- Data explanation: https://www.bbci.de/competition/iv/desc_2a.pdf\n",
    "- CSP paper: https://ieeexplore.ieee.org/document/4408441\n",
    "- SACSP paper: https://cogsci.ucsd.edu/~desa/Winter_conference_on_bci_2022.pdf"
   ]
  },
  {
   "cell_type": "markdown",
   "id": "17b48ef2",
   "metadata": {},
   "source": [
    "## Section 1: Setup"
   ]
  },
  {
   "cell_type": "code",
   "execution_count": 2,
   "id": "82f97c42",
   "metadata": {},
   "outputs": [],
   "source": [
    "import numpy as np\n",
    "from scipy.linalg import eigh\n",
    "from scipy.signal import butter, sosfiltfilt, sosfreqz\n",
    "import matplotlib.pyplot as plt"
   ]
  },
  {
   "cell_type": "markdown",
   "id": "b8218fa3",
   "metadata": {},
   "source": [
    "## Section 2: Data Import"
   ]
  },
  {
   "cell_type": "code",
   "execution_count": 3,
   "id": "4001d806",
   "metadata": {},
   "outputs": [],
   "source": [
    "n_subject = 9\n",
    "\n",
    "data_dir = './data/'\n",
    "data_prefix = 'A'\n",
    "data_suffix = '.npz'\n",
    "data_type = {'train':'T', 'test':'E'}\n",
    "data_path = data_dir + data_prefix + '{subject:02d}{type_:s}' + data_suffix"
   ]
  },
  {
   "cell_type": "code",
   "execution_count": 4,
   "id": "5c4bf978",
   "metadata": {},
   "outputs": [],
   "source": [
    "raw_train_subject = []\n",
    "raw_test_subject = []\n",
    "\n",
    "for subject_num in range(1, n_subject+1):\n",
    "    train_path = data_path.format(subject=subject_num, type_=data_type['train'])\n",
    "    test_path  = data_path.format(subject=subject_num, type_=data_type['test'])\n",
    "    raw_train_subject.append(np.load(train_path))\n",
    "    raw_test_subject.append(np.load(test_path))"
   ]
  },
  {
   "cell_type": "code",
   "execution_count": 5,
   "id": "e1a6d2b1",
   "metadata": {},
   "outputs": [],
   "source": [
    "class_code = {'left':769, 'right':770, 'foot':771, 'tongue':772}"
   ]
  },
  {
   "cell_type": "code",
   "execution_count": 6,
   "id": "5a91b209",
   "metadata": {},
   "outputs": [],
   "source": [
    "# globally\n",
    "fs = 250                                    # sampling frequency\n",
    "\n",
    "# within in each epoch\n",
    "cue_start = 2.                              # cue starts at\n",
    "cue_end = 3.25                              # cue ends at\n",
    "smr_start = 3.                              # smr starts after\n",
    "smr_end = 6.                                # smr ends after\n",
    "cue_start_offset = round(cue_start * fs)    # the first cue sample is at \n",
    "cue_end_offset   = round(cue_end * fs)      # the last cue sample is at\n",
    "smr_start_offset = round(smr_start * fs)    # the first smr sample is after\n",
    "smr_end_offset   = round(smr_end * fs)      # the last smr sample is after"
   ]
  },
  {
   "cell_type": "code",
   "execution_count": 7,
   "id": "0469cce3",
   "metadata": {},
   "outputs": [],
   "source": [
    "train_subject = []\n",
    "for raw_data in raw_train_subject: \n",
    "    signal = raw_data['s'].T\n",
    "    cue_class = raw_data['etyp']\n",
    "    cue_position = raw_data['epos']\n",
    "    \n",
    "    X_train = {}\n",
    "    \n",
    "    for name, code in class_code.items():\n",
    "        epoch_start = cue_position[cue_class==code] - cue_start_offset\n",
    "        \n",
    "        epochs = []\n",
    "        for i in range(len(epoch_start)):\n",
    "            epochs.append(signal[:, epoch_start[i]+smr_start_offset:epoch_start[i]+smr_end_offset])\n",
    "        epochs = np.stack(epochs)\n",
    "        \n",
    "        X_train[name] = epochs\n",
    "    \n",
    "    train_subject.append(X_train)"
   ]
  },
  {
   "cell_type": "code",
   "execution_count": 9,
   "id": "f40a1803",
   "metadata": {},
   "outputs": [],
   "source": [
    "test_subject = []\n",
    "for raw_data in raw_test_subject: \n",
    "    signal = raw_data['s'].T\n",
    "    cue_class = raw_data['etyp']\n",
    "    cue_position = raw_data['epos']\n",
    "    \n",
    "    X_test = {}\n",
    "    name = 'unknown'\n",
    "    code = 783\n",
    "    \n",
    "    epoch_start = cue_position[cue_class==code] - cue_start_offset\n",
    "    epochs = []\n",
    "    for i in range(len(epoch_start)):\n",
    "        epochs.append(signal[:, epoch_start[i]+smr_start_offset:epoch_start[i]+smr_end_offset])\n",
    "    epochs = np.stack(epochs)\n",
    "\n",
    "    X_test[name] = epochs\n",
    "    \n",
    "    test_subject.append(X_test)"
   ]
  },
  {
   "cell_type": "code",
   "execution_count": 12,
   "id": "3a8fa27d",
   "metadata": {},
   "outputs": [
    {
     "data": {
      "text/plain": [
       "array([[[  1.22070312,  -2.19726562,   2.83203125, ...,  -0.09765625,\n",
       "          -1.953125  ,  -6.8359375 ],\n",
       "        [  8.88671875,   2.49023438,   7.51953125, ...,   1.46484375,\n",
       "           0.68359375,  -4.54101562],\n",
       "        [  2.88085938,  -0.9765625 ,   3.02734375, ...,   3.125     ,\n",
       "           1.80664062,  -5.22460938],\n",
       "        ...,\n",
       "        [ -1.953125  ,   1.953125  ,   3.90625   , ...,   0.        ,\n",
       "          -6.34765625, -12.20703125],\n",
       "        [  6.8359375 ,   7.32421875,  11.23046875, ...,  -3.90625   ,\n",
       "          -2.9296875 ,  -2.44140625],\n",
       "        [  7.32421875,   2.9296875 ,   9.27734375, ...,  -3.90625   ,\n",
       "          -2.9296875 ,  -8.30078125]],\n",
       "\n",
       "       [[  1.22070312,  -1.70898438,   0.34179688, ...,  -9.08203125,\n",
       "          -9.66796875,  -8.15429688],\n",
       "        [  2.34375   ,   0.1953125 ,   3.66210938, ...,  -4.54101562,\n",
       "          -7.91015625,  -7.08007812],\n",
       "        [  2.734375  ,  -0.87890625,   0.68359375, ...,  -9.22851562,\n",
       "         -10.44921875,  -9.27734375],\n",
       "        ...,\n",
       "        [ 12.20703125,   9.27734375,  19.53125   , ...,   1.46484375,\n",
       "           1.953125  ,  -5.37109375],\n",
       "        [  5.37109375,   2.9296875 ,   8.30078125, ...,  -2.9296875 ,\n",
       "         -11.71875   ,  -6.8359375 ],\n",
       "        [  0.        ,   1.953125  ,   7.32421875, ...,   0.9765625 ,\n",
       "          -1.46484375,  -1.46484375]],\n",
       "\n",
       "       [[  9.61914062,  12.93945312,   8.203125  , ...,   5.078125  ,\n",
       "           6.15234375,   2.58789062],\n",
       "        [  7.51953125,  10.10742188,   6.88476562, ...,   4.1015625 ,\n",
       "           1.85546875,  -1.953125  ],\n",
       "        [ 14.50195312,  16.06445312,  11.23046875, ...,   1.3671875 ,\n",
       "           2.5390625 ,  -1.41601562],\n",
       "        ...,\n",
       "        [ 13.671875  ,  16.6015625 ,   8.7890625 , ...,   6.8359375 ,\n",
       "          11.71875   ,   3.41796875],\n",
       "        [  5.37109375,  16.11328125,  13.18359375, ...,  12.6953125 ,\n",
       "          15.625     ,   7.8125    ],\n",
       "        [  5.859375  ,  13.671875  ,   4.8828125 , ...,  -0.48828125,\n",
       "          -3.41796875,  -6.34765625]],\n",
       "\n",
       "       ...,\n",
       "\n",
       "       [[  3.66210938,   6.93359375,  -1.90429688, ...,  -7.03125   ,\n",
       "          -1.46484375,  13.76953125],\n",
       "        [ -1.41601562,   1.7578125 ,  -5.17578125, ...,  -4.8828125 ,\n",
       "          -1.80664062,  13.42773438],\n",
       "        [  1.171875  ,   5.859375  ,  -0.68359375, ...,  -2.63671875,\n",
       "           1.02539062,  14.99023438],\n",
       "        ...,\n",
       "        [  7.8125    ,  11.71875   ,  -2.44140625, ...,  -8.7890625 ,\n",
       "          -2.9296875 ,   1.46484375],\n",
       "        [  7.8125    ,  14.6484375 ,   2.44140625, ..., -10.7421875 ,\n",
       "          -8.30078125,   5.859375  ],\n",
       "        [  5.859375  ,   9.765625  ,   1.46484375, ...,  -6.8359375 ,\n",
       "          -4.39453125,   9.765625  ]],\n",
       "\n",
       "       [[  7.12890625,  -1.61132812,  -5.6640625 , ...,  -7.12890625,\n",
       "          -6.49414062,   4.93164062],\n",
       "        [  1.46484375,  -5.32226562,  -8.34960938, ...,  -9.66796875,\n",
       "          -8.83789062,   1.90429688],\n",
       "        [  2.19726562,  -2.39257812,  -6.68945312, ...,  -8.3984375 ,\n",
       "          -6.34765625,   4.83398438],\n",
       "        ...,\n",
       "        [  9.27734375,   8.7890625 ,   5.859375  , ...,   2.44140625,\n",
       "          -0.48828125,   6.8359375 ],\n",
       "        [ 14.6484375 ,  11.71875   ,  11.23046875, ...,   1.46484375,\n",
       "          -2.44140625,   6.8359375 ],\n",
       "        [ 15.13671875,   9.27734375,  11.23046875, ...,  -2.44140625,\n",
       "          -5.37109375,   7.32421875]],\n",
       "\n",
       "       [[ -7.76367188, -16.84570312, -10.15625   , ...,   5.41992188,\n",
       "          -0.48828125,  -6.8359375 ],\n",
       "        [ -5.37109375, -13.57421875,  -6.4453125 , ...,   4.05273438,\n",
       "          -5.12695312,  -8.7890625 ],\n",
       "        [ -5.56640625, -15.08789062,  -9.13085938, ...,   3.56445312,\n",
       "          -2.05078125,  -7.27539062],\n",
       "        ...,\n",
       "        [ -1.953125  ,  -3.90625   ,  -2.44140625, ...,  -4.8828125 ,\n",
       "          -2.44140625,   0.        ],\n",
       "        [-10.25390625, -12.20703125,  -8.30078125, ...,  -1.46484375,\n",
       "          -3.90625   ,  -5.859375  ],\n",
       "        [ -7.8125    , -10.25390625,  -5.859375  , ...,  -3.41796875,\n",
       "          -2.9296875 ,  -4.39453125]]])"
      ]
     },
     "execution_count": 12,
     "metadata": {},
     "output_type": "execute_result"
    }
   ],
   "source": [
    "test_subject[0]['unknown']"
   ]
  }
 ],
 "metadata": {
  "kernelspec": {
   "display_name": "Python 3 (ipykernel)",
   "language": "python",
   "name": "python3"
  },
  "language_info": {
   "codemirror_mode": {
    "name": "ipython",
    "version": 3
   },
   "file_extension": ".py",
   "mimetype": "text/x-python",
   "name": "python",
   "nbconvert_exporter": "python",
   "pygments_lexer": "ipython3",
   "version": "3.9.7"
  }
 },
 "nbformat": 4,
 "nbformat_minor": 5
}
